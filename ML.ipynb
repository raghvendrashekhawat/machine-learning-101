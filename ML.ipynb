{
  "nbformat": 4,
  "nbformat_minor": 0,
  "metadata": {
    "colab": {
      "name": "ML",
      "provenance": [],
      "include_colab_link": true
    },
    "kernelspec": {
      "name": "python3",
      "display_name": "Python 3"
    }
  },
  "cells": [
    {
      "cell_type": "markdown",
      "metadata": {
        "id": "view-in-github",
        "colab_type": "text"
      },
      "source": [
        "<a href=\"https://colab.research.google.com/github/raghvendrashekhawat/machine-learning-101/blob/master/ML.ipynb\" target=\"_parent\"><img src=\"https://colab.research.google.com/assets/colab-badge.svg\" alt=\"Open In Colab\"/></a>"
      ]
    },
    {
      "cell_type": "code",
      "metadata": {
        "id": "k_88iJjItbOn",
        "colab_type": "code",
        "outputId": "9e89c234-e8de-45fc-e01e-1bd47cc45210",
        "colab": {
          "base_uri": "https://localhost:8080/",
          "height": 105
        }
      },
      "source": [
        "from tensorflow.keras.preprocessing.text import Tokenizer\n",
        "from tensorflow.keras.preprocessing.sequence import pad_sequences\n",
        "sentences = ['I Love my dog!', 'i am very very very smart', 'hi hello']\n",
        "tokenizer = Tokenizer(num_words = 50, oov_token =\"<OOV>\")\n",
        "tokenizer.fit_on_texts(sentences)\n",
        "word_index= tokenizer.word_index\n",
        "sequence = tokenizer.texts_to_sequences(sentences)\n",
        "\n",
        "data = [' HEllo i am good']\n",
        "\n",
        "padded = pad_sequences(sequence)\n",
        "\n",
        "\n",
        "print(word_index)\n",
        "print(sequence)\n",
        "print(padded)"
      ],
      "execution_count": 0,
      "outputs": [
        {
          "output_type": "stream",
          "text": [
            "{'<OOV>': 1, 'very': 2, 'i': 3, 'love': 4, 'my': 5, 'dog': 6, 'am': 7, 'smart': 8, 'hi': 9, 'hello': 10}\n",
            "[[3, 4, 5, 6], [3, 7, 2, 2, 2, 8], [9, 10]]\n",
            "[[ 0  0  3  4  5  6]\n",
            " [ 3  7  2  2  2  8]\n",
            " [ 0  0  0  0  9 10]]\n"
          ],
          "name": "stdout"
        }
      ]
    }
  ]
}